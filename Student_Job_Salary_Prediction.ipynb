{
  "nbformat": 4,
  "nbformat_minor": 0,
  "metadata": {
    "kernelspec": {
      "display_name": "Python 3",
      "language": "python",
      "name": "python3"
    },
    "language_info": {
      "codemirror_mode": {
        "name": "ipython",
        "version": 3
      },
      "file_extension": ".py",
      "mimetype": "text/x-python",
      "name": "python",
      "nbconvert_exporter": "python",
      "pygments_lexer": "ipython3",
      "version": "3.7.3"
    },
    "colab": {
      "name": "Final.ipynb",
      "provenance": [],
      "include_colab_link": true
    }
  },
  "cells": [
    {
      "cell_type": "markdown",
      "metadata": {
        "id": "view-in-github",
        "colab_type": "text"
      },
      "source": [
        "<a href=\"https://colab.research.google.com/github/apoorvareddy612/Data-Science-Tasks/blob/main/Student_Job_Salary_Prediction.ipynb\" target=\"_parent\"><img src=\"https://colab.research.google.com/assets/colab-badge.svg\" alt=\"Open In Colab\"/></a>"
      ]
    },
    {
      "cell_type": "code",
      "metadata": {
        "id": "1oy8XPBAHjNR"
      },
      "source": [
        "import pandas as pd\n",
        "import numpy as np\n",
        "import matplotlib.pyplot as plt\n",
        "%matplotlib inline\n",
        "import seaborn as sns"
      ],
      "execution_count": null,
      "outputs": []
    },
    {
      "cell_type": "code",
      "metadata": {
        "id": "fHBWF45tHjNV"
      },
      "source": [
        "data = pd.read_csv('datasets_596958_1073629_Placement_Data_Full_Class.csv')\n"
      ],
      "execution_count": null,
      "outputs": []
    },
    {
      "cell_type": "code",
      "metadata": {
        "id": "vnRDCmjmHjNW",
        "outputId": "5fbf06c7-a5a3-4951-a8d7-a47f4c1a75e5"
      },
      "source": [
        "data.head()"
      ],
      "execution_count": null,
      "outputs": [
        {
          "output_type": "execute_result",
          "data": {
            "text/html": [
              "<div>\n",
              "<style scoped>\n",
              "    .dataframe tbody tr th:only-of-type {\n",
              "        vertical-align: middle;\n",
              "    }\n",
              "\n",
              "    .dataframe tbody tr th {\n",
              "        vertical-align: top;\n",
              "    }\n",
              "\n",
              "    .dataframe thead th {\n",
              "        text-align: right;\n",
              "    }\n",
              "</style>\n",
              "<table border=\"1\" class=\"dataframe\">\n",
              "  <thead>\n",
              "    <tr style=\"text-align: right;\">\n",
              "      <th></th>\n",
              "      <th>sl_no</th>\n",
              "      <th>gender</th>\n",
              "      <th>ssc_p</th>\n",
              "      <th>ssc_b</th>\n",
              "      <th>hsc_p</th>\n",
              "      <th>hsc_b</th>\n",
              "      <th>hsc_s</th>\n",
              "      <th>degree_p</th>\n",
              "      <th>degree_t</th>\n",
              "      <th>workex</th>\n",
              "      <th>etest_p</th>\n",
              "      <th>specialisation</th>\n",
              "      <th>mba_p</th>\n",
              "      <th>status</th>\n",
              "      <th>salary</th>\n",
              "    </tr>\n",
              "  </thead>\n",
              "  <tbody>\n",
              "    <tr>\n",
              "      <th>0</th>\n",
              "      <td>1</td>\n",
              "      <td>M</td>\n",
              "      <td>67.00</td>\n",
              "      <td>Others</td>\n",
              "      <td>91.00</td>\n",
              "      <td>Others</td>\n",
              "      <td>Commerce</td>\n",
              "      <td>58.00</td>\n",
              "      <td>Sci&amp;Tech</td>\n",
              "      <td>No</td>\n",
              "      <td>55.0</td>\n",
              "      <td>Mkt&amp;HR</td>\n",
              "      <td>58.80</td>\n",
              "      <td>Placed</td>\n",
              "      <td>270000.0</td>\n",
              "    </tr>\n",
              "    <tr>\n",
              "      <th>1</th>\n",
              "      <td>2</td>\n",
              "      <td>M</td>\n",
              "      <td>79.33</td>\n",
              "      <td>Central</td>\n",
              "      <td>78.33</td>\n",
              "      <td>Others</td>\n",
              "      <td>Science</td>\n",
              "      <td>77.48</td>\n",
              "      <td>Sci&amp;Tech</td>\n",
              "      <td>Yes</td>\n",
              "      <td>86.5</td>\n",
              "      <td>Mkt&amp;Fin</td>\n",
              "      <td>66.28</td>\n",
              "      <td>Placed</td>\n",
              "      <td>200000.0</td>\n",
              "    </tr>\n",
              "    <tr>\n",
              "      <th>2</th>\n",
              "      <td>3</td>\n",
              "      <td>M</td>\n",
              "      <td>65.00</td>\n",
              "      <td>Central</td>\n",
              "      <td>68.00</td>\n",
              "      <td>Central</td>\n",
              "      <td>Arts</td>\n",
              "      <td>64.00</td>\n",
              "      <td>Comm&amp;Mgmt</td>\n",
              "      <td>No</td>\n",
              "      <td>75.0</td>\n",
              "      <td>Mkt&amp;Fin</td>\n",
              "      <td>57.80</td>\n",
              "      <td>Placed</td>\n",
              "      <td>250000.0</td>\n",
              "    </tr>\n",
              "    <tr>\n",
              "      <th>3</th>\n",
              "      <td>4</td>\n",
              "      <td>M</td>\n",
              "      <td>56.00</td>\n",
              "      <td>Central</td>\n",
              "      <td>52.00</td>\n",
              "      <td>Central</td>\n",
              "      <td>Science</td>\n",
              "      <td>52.00</td>\n",
              "      <td>Sci&amp;Tech</td>\n",
              "      <td>No</td>\n",
              "      <td>66.0</td>\n",
              "      <td>Mkt&amp;HR</td>\n",
              "      <td>59.43</td>\n",
              "      <td>Not Placed</td>\n",
              "      <td>NaN</td>\n",
              "    </tr>\n",
              "    <tr>\n",
              "      <th>4</th>\n",
              "      <td>5</td>\n",
              "      <td>M</td>\n",
              "      <td>85.80</td>\n",
              "      <td>Central</td>\n",
              "      <td>73.60</td>\n",
              "      <td>Central</td>\n",
              "      <td>Commerce</td>\n",
              "      <td>73.30</td>\n",
              "      <td>Comm&amp;Mgmt</td>\n",
              "      <td>No</td>\n",
              "      <td>96.8</td>\n",
              "      <td>Mkt&amp;Fin</td>\n",
              "      <td>55.50</td>\n",
              "      <td>Placed</td>\n",
              "      <td>425000.0</td>\n",
              "    </tr>\n",
              "  </tbody>\n",
              "</table>\n",
              "</div>"
            ],
            "text/plain": [
              "   sl_no gender  ssc_p    ssc_b  hsc_p    hsc_b     hsc_s  degree_p  \\\n",
              "0      1      M  67.00   Others  91.00   Others  Commerce     58.00   \n",
              "1      2      M  79.33  Central  78.33   Others   Science     77.48   \n",
              "2      3      M  65.00  Central  68.00  Central      Arts     64.00   \n",
              "3      4      M  56.00  Central  52.00  Central   Science     52.00   \n",
              "4      5      M  85.80  Central  73.60  Central  Commerce     73.30   \n",
              "\n",
              "    degree_t workex  etest_p specialisation  mba_p      status    salary  \n",
              "0   Sci&Tech     No     55.0         Mkt&HR  58.80      Placed  270000.0  \n",
              "1   Sci&Tech    Yes     86.5        Mkt&Fin  66.28      Placed  200000.0  \n",
              "2  Comm&Mgmt     No     75.0        Mkt&Fin  57.80      Placed  250000.0  \n",
              "3   Sci&Tech     No     66.0         Mkt&HR  59.43  Not Placed       NaN  \n",
              "4  Comm&Mgmt     No     96.8        Mkt&Fin  55.50      Placed  425000.0  "
            ]
          },
          "metadata": {
            "tags": []
          },
          "execution_count": 3
        }
      ]
    },
    {
      "cell_type": "code",
      "metadata": {
        "id": "fmktCUzCHjNY"
      },
      "source": [
        "#remove Serial Number"
      ],
      "execution_count": null,
      "outputs": []
    },
    {
      "cell_type": "code",
      "metadata": {
        "id": "9rZ2Jc7sHjNY"
      },
      "source": [
        "data.drop(\"sl_no\",axis=1,inplace=True)"
      ],
      "execution_count": null,
      "outputs": []
    },
    {
      "cell_type": "markdown",
      "metadata": {
        "id": "JEU2apM3HjNZ"
      },
      "source": [
        "### EDA"
      ]
    },
    {
      "cell_type": "code",
      "metadata": {
        "id": "oZNs6gmOHjNZ",
        "outputId": "0158c258-909a-4a9b-b67e-1042174d670c"
      },
      "source": [
        "sns.countplot(\"gender\", hue=\"status\", data=data)\n",
        "plt.show()\n"
      ],
      "execution_count": null,
      "outputs": [
        {
          "output_type": "display_data",
          "data": {
            "image/png": "[encoded data removed]",
            "text/plain": [
              "<Figure size 432x288 with 1 Axes>"
            ]
          },
          "metadata": {
            "tags": [],
            "needs_background": "light"
          }
        }
      ]
    },
    {
      "cell_type": "code",
      "metadata": {
        "id": "sY-6UkL5HjNa",
        "outputId": "6eade382-01b3-44fc-97d3-e6de2678329b"
      },
      "source": [
        "sns.kdeplot(data.salary[ data.gender==\"M\"])\n",
        "sns.kdeplot(data.salary[ data.gender==\"F\"])\n",
        "plt.show()"
      ],
      "execution_count": null,
      "outputs": [
        {
          "output_type": "stream",
          "text": [
            "/Users/apoorva/anaconda3/lib/python3.7/site-packages/statsmodels/nonparametric/kde.py:447: RuntimeWarning: invalid value encountered in greater\n",
            "  X = X[np.logical_and(X > clip[0], X < clip[1])] # won't work for two columns.\n",
            "/Users/apoorva/anaconda3/lib/python3.7/site-packages/statsmodels/nonparametric/kde.py:447: RuntimeWarning: invalid value encountered in less\n",
            "  X = X[np.logical_and(X > clip[0], X < clip[1])] # won't work for two columns.\n"
          ],
          "name": "stderr"
        },
        {
          "output_type": "display_data",
          "data": {
            "image/png": "[encoded data removed]",
            "text/plain": [
              "<Figure size 432x288 with 1 Axes>"
            ]
          },
          "metadata": {
            "tags": [],
            "needs_background": "light"
          }
        }
      ]
    },
    {
      "cell_type": "code",
      "metadata": {
        "id": "0msmmAX3HjNb",
        "outputId": "ea28d9d6-8ae4-4937-9f8f-433350b157b9"
      },
      "source": [
        "plt.figure(figsize =(18,6))\n",
        "sns.boxplot(\"salary\", \"gender\", data=data)\n",
        "plt.show()"
      ],
      "execution_count": null,
      "outputs": [
        {
          "output_type": "display_data",
          "data": {
            "image/png": "[encoded data removed]",
            "text/plain": [
              "<Figure size 1296x432 with 1 Axes>"
            ]
          },
          "metadata": {
            "tags": [],
            "needs_background": "light"
          }
        }
      ]
    },
    {
      "cell_type": "code",
      "metadata": {
        "id": "ekEsEEFTHjNc",
        "outputId": "9c40909a-d013-4f42-fb56-635b9fec1fc9"
      },
      "source": [
        "sns.kdeplot(data.ssc_p[ data.status==\"Placed\"])\n",
        "sns.kdeplot(data.ssc_p[ data.status==\"Not Placed\"])\n",
        "\n",
        "plt.show()"
      ],
      "execution_count": null,
      "outputs": [
        {
          "output_type": "display_data",
          "data": {
            "image/png": "[encoded data removed]",
            "text/plain": [
              "<Figure size 432x288 with 1 Axes>"
            ]
          },
          "metadata": {
            "tags": [],
            "needs_background": "light"
          }
        }
      ]
    },
    {
      "cell_type": "code",
      "metadata": {
        "id": "UQgd-WLXHjNc",
        "outputId": "63c8872f-1e06-4feb-afeb-959959fe5bf1"
      },
      "source": [
        "sns.countplot(\"ssc_b\", hue=\"status\", data=data)\n",
        "plt.show()"
      ],
      "execution_count": null,
      "outputs": [
        {
          "output_type": "display_data",
          "data": {
            "image/png": "[encoded data removed]",
            "text/plain": [
              "<Figure size 432x288 with 1 Axes>"
            ]
          },
          "metadata": {
            "tags": [],
            "needs_background": "light"
          }
        }
      ]
    },
    {
      "cell_type": "markdown",
      "metadata": {
        "id": "lBGj-ZzUHjNd"
      },
      "source": [
        "ssc_b does not affect the dependent variable very much"
      ]
    },
    {
      "cell_type": "code",
      "metadata": {
        "id": "A6dkGzrhHjNd",
        "outputId": "0b8961c8-b13d-454d-a2ed-ff44e326d061"
      },
      "source": [
        "plt.figure(figsize =(18,6))\n",
        "sns.boxplot(\"salary\", \"ssc_b\", data=data)\n",
        "plt.show()"
      ],
      "execution_count": null,
      "outputs": [
        {
          "output_type": "display_data",
          "data": {
            "image/png": "[encoded data removed]",
            "text/plain": [
              "<Figure size 1296x432 with 1 Axes>"
            ]
          },
          "metadata": {
            "tags": [],
            "needs_background": "light"
          }
        }
      ]
    },
    {
      "cell_type": "code",
      "metadata": {
        "id": "_r4RXqofHjNe",
        "outputId": "76118e5a-ef44-482b-f5d0-1e02dcb7bb7e"
      },
      "source": [
        "sns.kdeplot(data.hsc_p[ data.status==\"Placed\"])\n",
        "sns.kdeplot(data.hsc_p[ data.status==\"Not Placed\"])\n",
        "plt.legend([\"Placed\", \"Not Placed\"])\n",
        "plt.xlabel(\"Higher Secondary Education Percentage\")\n",
        "plt.show()\n"
      ],
      "execution_count": null,
      "outputs": [
        {
          "output_type": "display_data",
          "data": {
            "image/png": "[encoded data removed]",
            "text/plain": [
              "<Figure size 432x288 with 1 Axes>"
            ]
          },
          "metadata": {
            "tags": [],
            "needs_background": "light"
          }
        }
      ]
    },
    {
      "cell_type": "code",
      "metadata": {
        "id": "UeX3HEKEHjNf",
        "outputId": "e5c9d0c4-767d-4f41-c3ca-09e5d576d8f4"
      },
      "source": [
        "sns.countplot(\"hsc_b\", hue=\"status\", data=data)\n",
        "plt.show()"
      ],
      "execution_count": null,
      "outputs": [
        {
          "output_type": "display_data",
          "data": {
            "image/png": "[encoded data removed]",
            "text/plain": [
              "<Figure size 432x288 with 1 Axes>"
            ]
          },
          "metadata": {
            "tags": [],
            "needs_background": "light"
          }
        }
      ]
    },
    {
      "cell_type": "markdown",
      "metadata": {
        "id": "vtmxp61mHjNf"
      },
      "source": [
        "hsc_b does not affect the predicting variable"
      ]
    },
    {
      "cell_type": "code",
      "metadata": {
        "id": "vXRzs-H2HjNf",
        "outputId": "5fb661ef-fdf2-42fe-87c9-adb2d91186d1"
      },
      "source": [
        "sns.countplot(\"hsc_s\", hue=\"status\", data=data)\n",
        "plt.show()"
      ],
      "execution_count": null,
      "outputs": [
        {
          "output_type": "display_data",
          "data": {
            "image/png": "[encoded data removed]",
            "text/plain": [
              "<Figure size 432x288 with 1 Axes>"
            ]
          },
          "metadata": {
            "tags": [],
            "needs_background": "light"
          }
        }
      ]
    },
    {
      "cell_type": "code",
      "metadata": {
        "id": "NiK8ZUEXHjNg",
        "outputId": "a420b339-d370-42fb-8021-2bc717868e87"
      },
      "source": [
        "plt.figure(figsize =(18,6))\n",
        "sns.boxplot(\"salary\", \"hsc_b\", data=data)\n",
        "plt.show()"
      ],
      "execution_count": null,
      "outputs": [
        {
          "output_type": "display_data",
          "data": {
            "image/png": "[encoded data removed]",
            "text/plain": [
              "<Figure size 1296x432 with 1 Axes>"
            ]
          },
          "metadata": {
            "tags": [],
            "needs_background": "light"
          }
        }
      ]
    },
    {
      "cell_type": "code",
      "metadata": {
        "id": "6MQG34bcHjNg",
        "outputId": "15a13338-0d7f-40b7-ce0d-f9bf4de326b8"
      },
      "source": [
        "plt.figure(figsize =(18,6))\n",
        "sns.boxplot(\"salary\", \"hsc_s\", data=data)\n",
        "plt.show()"
      ],
      "execution_count": null,
      "outputs": [
        {
          "output_type": "display_data",
          "data": {
            "image/png": "[encoded data removed]",
            "text/plain": [
              "<Figure size 1296x432 with 1 Axes>"
            ]
          },
          "metadata": {
            "tags": [],
            "needs_background": "light"
          }
        }
      ]
    },
    {
      "cell_type": "code",
      "metadata": {
        "id": "R_f43P1yHjNh",
        "outputId": "5cb4fa95-abe2-4e30-a331-be4e82043e9e"
      },
      "source": [
        "sns.kdeplot(data.degree_p[ data.status==\"Placed\"])\n",
        "sns.kdeplot(data.degree_p[ data.status==\"Not Placed\"])\n",
        "plt.legend([\"Placed\", \"Not Placed\"])\n",
        "plt.show()"
      ],
      "execution_count": null,
      "outputs": [
        {
          "output_type": "display_data",
          "data": {
            "image/png": "[encoded data removed]",
            "text/plain": [
              "<Figure size 432x288 with 1 Axes>"
            ]
          },
          "metadata": {
            "tags": [],
            "needs_background": "light"
          }
        }
      ]
    },
    {
      "cell_type": "code",
      "metadata": {
        "id": "YCP7iNrxHjNh",
        "outputId": "d5691645-c435-4b17-c148-ccb34316f5e0"
      },
      "source": [
        "plt.figure(figsize =(18,6))\n",
        "sns.boxplot(\"salary\", \"degree_t\", data=data)\n",
        "plt.show()"
      ],
      "execution_count": null,
      "outputs": [
        {
          "output_type": "display_data",
          "data": {
            "image/png": "[encoded data removed]",
            "text/plain": [
              "<Figure size 1296x432 with 1 Axes>"
            ]
          },
          "metadata": {
            "tags": [],
            "needs_background": "light"
          }
        }
      ]
    },
    {
      "cell_type": "code",
      "metadata": {
        "id": "D2D6jNEhHjNi",
        "outputId": "59641247-8115-41c7-d293-cf9a85ae7b7c"
      },
      "source": [
        "sns.countplot(\"workex\", hue=\"status\", data=data)\n",
        "plt.show()"
      ],
      "execution_count": null,
      "outputs": [
        {
          "output_type": "display_data",
          "data": {
            "image/png": "[encoded data removed]",
            "text/plain": [
              "<Figure size 432x288 with 1 Axes>"
            ]
          },
          "metadata": {
            "tags": [],
            "needs_background": "light"
          }
        }
      ]
    },
    {
      "cell_type": "code",
      "metadata": {
        "id": "Bc5Xg702HjNj",
        "outputId": "5876abff-2e33-441e-ba12-64bcd39fd631"
      },
      "source": [
        "plt.figure(figsize =(18,6))\n",
        "sns.boxplot(\"salary\", \"workex\", data=data)\n",
        "plt.show()"
      ],
      "execution_count": null,
      "outputs": [
        {
          "output_type": "display_data",
          "data": {
            "image/png": "[encoded data removed]",
            "text/plain": [
              "<Figure size 1296x432 with 1 Axes>"
            ]
          },
          "metadata": {
            "tags": [],
            "needs_background": "light"
          }
        }
      ]
    },
    {
      "cell_type": "code",
      "metadata": {
        "id": "yIiQUGWbHjNk",
        "outputId": "a6cc7c6f-e2be-4551-aae6-40849f8c412b"
      },
      "source": [
        "\n",
        "sns.kdeplot(data.etest_p[ data.status==\"Placed\"])\n",
        "sns.kdeplot(data.etest_p[ data.status==\"Not Placed\"])\n",
        "plt.legend([\"Placed\", \"Not Placed\"])\n",
        "plt.show()"
      ],
      "execution_count": null,
      "outputs": [
        {
          "output_type": "display_data",
          "data": {
            "image/png": "[encoded data removed]",
            "text/plain": [
              "<Figure size 432x288 with 1 Axes>"
            ]
          },
          "metadata": {
            "tags": [],
            "needs_background": "light"
          }
        }
      ]
    },
    {
      "cell_type": "code",
      "metadata": {
        "id": "eFfsVXQkHjNk",
        "outputId": "4c3ba324-1998-46f0-f7c4-021ae2c8de89"
      },
      "source": [
        "sns.countplot(\"specialisation\", hue=\"status\", data=data)\n",
        "plt.show()"
      ],
      "execution_count": null,
      "outputs": [
        {
          "output_type": "display_data",
          "data": {
            "image/png": "[encoded data removed]",
            "text/plain": [
              "<Figure size 432x288 with 1 Axes>"
            ]
          },
          "metadata": {
            "tags": [],
            "needs_background": "light"
          }
        }
      ]
    },
    {
      "cell_type": "code",
      "metadata": {
        "id": "hJotbsPdHjNl",
        "outputId": "65cd95cf-296c-48c2-8945-e21ad80f13a9"
      },
      "source": [
        "plt.figure(figsize =(18,6))\n",
        "sns.boxplot(\"salary\", \"specialisation\", data=data)\n",
        "plt.show()"
      ],
      "execution_count": null,
      "outputs": [
        {
          "output_type": "display_data",
          "data": {
            "image/png": "[encoded data removed]",
            "text/plain": [
              "<Figure size 1296x432 with 1 Axes>"
            ]
          },
          "metadata": {
            "tags": [],
            "needs_background": "light"
          }
        }
      ]
    },
    {
      "cell_type": "markdown",
      "metadata": {
        "id": "8RWys5NwHjNl"
      },
      "source": [
        "### Data Pre-Processing"
      ]
    },
    {
      "cell_type": "code",
      "metadata": {
        "id": "_sT1TfREHjNl"
      },
      "source": [
        "data.drop(['ssc_b','hsc_b'],axis=1,inplace=True)"
      ],
      "execution_count": null,
      "outputs": []
    },
    {
      "cell_type": "code",
      "metadata": {
        "id": "3HB2q5dCHjNl",
        "outputId": "0cf7c73e-c35a-43fd-8c24-42232b08b2cd"
      },
      "source": [
        "data.dtypes"
      ],
      "execution_count": null,
      "outputs": [
        {
          "output_type": "execute_result",
          "data": {
            "text/plain": [
              "gender             object\n",
              "ssc_p             float64\n",
              "hsc_p             float64\n",
              "hsc_s              object\n",
              "degree_p          float64\n",
              "degree_t           object\n",
              "workex             object\n",
              "etest_p           float64\n",
              "specialisation     object\n",
              "mba_p             float64\n",
              "status             object\n",
              "salary            float64\n",
              "dtype: object"
            ]
          },
          "metadata": {
            "tags": []
          },
          "execution_count": 25
        }
      ]
    },
    {
      "cell_type": "code",
      "metadata": {
        "id": "BOVtQ8dXHjNm"
      },
      "source": [
        "data[\"status\"] = data.status.map({\"Not Placed\":0, \"Placed\":1})\n",
        "# Categorical Variable\n",
        "data[\"gender\"] = data.gender.map({\"M\":0,\"F\":1})\n",
        "data[\"hsc_s\"] = data.hsc_s.map({\"Commerce\":0,\"Science\":1,\"Arts\":2})\n",
        "data[\"degree_t\"] = data.degree_t.map({\"Comm&Mgmt\":0,\"Sci&Tech\":1, \"Others\":2})\n",
        "data[\"workex\"] = data.workex.map({\"No\":0, \"Yes\":1})\n",
        "data[\"specialisation\"] = data.specialisation.map({\"Mkt&HR\":0, \"Mkt&Fin\":1})"
      ],
      "execution_count": null,
      "outputs": []
    },
    {
      "cell_type": "markdown",
      "metadata": {
        "id": "mrQ0yaKnHjNm"
      },
      "source": [
        "### Predicting If Students gets placed or not (Binary Classification Problem)\n",
        "### Predicting Salary of Student (Regression Problem)"
      ]
    },
    {
      "cell_type": "code",
      "metadata": {
        "id": "P1bqliiDHjNm"
      },
      "source": [
        "# Classification\n",
        "df = data.copy()\n",
        "# Regression\n",
        "a = data.copy()"
      ],
      "execution_count": null,
      "outputs": []
    },
    {
      "cell_type": "code",
      "metadata": {
        "id": "DiiFph32HjNn"
      },
      "source": [
        "\n",
        "X = df.drop(['status','salary'],axis=1)\n",
        "y = df['status']"
      ],
      "execution_count": null,
      "outputs": []
    },
    {
      "cell_type": "code",
      "metadata": {
        "id": "tUW02aP6HjNn"
      },
      "source": [
        ""
      ],
      "execution_count": null,
      "outputs": []
    },
    {
      "cell_type": "code",
      "metadata": {
        "id": "gI55OYB0HjNn"
      },
      "source": [
        ""
      ],
      "execution_count": null,
      "outputs": []
    },
    {
      "cell_type": "code",
      "metadata": {
        "id": "UchvxUvEHjNn"
      },
      "source": [
        "from sklearn.tree import DecisionTreeClassifier\n",
        "from sklearn.ensemble import RandomForestClassifier\n",
        "from sklearn.model_selection import train_test_split\n",
        "from sklearn.metrics import accuracy_score"
      ],
      "execution_count": null,
      "outputs": []
    },
    {
      "cell_type": "code",
      "metadata": {
        "id": "A9XfPec0HjNn"
      },
      "source": [
        "X_train, X_test, y_train, y_test = train_test_split(X, y, test_size=0.2)"
      ],
      "execution_count": null,
      "outputs": []
    },
    {
      "cell_type": "code",
      "metadata": {
        "id": "0k4ZzhIoHjNo"
      },
      "source": [
        "model = DecisionTreeClassifier(criterion='entropy')\n",
        "model.fit(X_train, y_train)\n",
        "y_pred = model.predict(X_test)"
      ],
      "execution_count": null,
      "outputs": []
    },
    {
      "cell_type": "code",
      "metadata": {
        "id": "Rh5TMoo2HjNo",
        "outputId": "d1963bd1-cf18-47db-9865-b9f03895794e"
      },
      "source": [
        "accuracy_score(y_test, y_pred)"
      ],
      "execution_count": null,
      "outputs": [
        {
          "output_type": "execute_result",
          "data": {
            "text/plain": [
              "0.7906976744186046"
            ]
          },
          "metadata": {
            "tags": []
          },
          "execution_count": 32
        }
      ]
    },
    {
      "cell_type": "code",
      "metadata": {
        "id": "_S8-J7TXHjNo"
      },
      "source": [
        "#Using Random Forest Algorithm\n",
        "random_forest = RandomForestClassifier(n_estimators=100)\n",
        "random_forest.fit(X_train, y_train)\n",
        "y_pred = random_forest.predict(X_test)"
      ],
      "execution_count": null,
      "outputs": []
    },
    {
      "cell_type": "code",
      "metadata": {
        "id": "4REf4Dh5HjNp",
        "outputId": "e2d78de4-19c0-46d1-9c84-0e4246c72b68"
      },
      "source": [
        "accuracy_score(y_test, y_pred)"
      ],
      "execution_count": null,
      "outputs": [
        {
          "output_type": "execute_result",
          "data": {
            "text/plain": [
              "0.8372093023255814"
            ]
          },
          "metadata": {
            "tags": []
          },
          "execution_count": 34
        }
      ]
    },
    {
      "cell_type": "code",
      "metadata": {
        "id": "axN1l-5QHjNp"
      },
      "source": [
        "from sklearn.preprocessing import MinMaxScaler\n",
        "scaler = MinMaxScaler()\n",
        "X_scaled = scaler.fit_transform(X)"
      ],
      "execution_count": null,
      "outputs": []
    },
    {
      "cell_type": "code",
      "metadata": {
        "id": "r0BtQy4HHjNp"
      },
      "source": [
        "X_train, X_test, y_train, y_test = train_test_split(X_scaled, y, test_size=0.3)"
      ],
      "execution_count": null,
      "outputs": []
    },
    {
      "cell_type": "code",
      "metadata": {
        "id": "hADz8B58HjNp",
        "outputId": "c1b5aa2c-868c-40f2-ea61-132485657803"
      },
      "source": [
        "from sklearn.linear_model import LogisticRegression\n",
        "logistic_reg = LogisticRegression()\n",
        "logistic_reg.fit(X_train, y_train)\n",
        "y_pred = logistic_reg.predict(X_test)"
      ],
      "execution_count": null,
      "outputs": [
        {
          "output_type": "stream",
          "text": [
            "/Users/apoorva/anaconda3/lib/python3.7/site-packages/sklearn/linear_model/logistic.py:432: FutureWarning: Default solver will be changed to 'lbfgs' in 0.22. Specify a solver to silence this warning.\n",
            "  FutureWarning)\n"
          ],
          "name": "stderr"
        }
      ]
    },
    {
      "cell_type": "code",
      "metadata": {
        "id": "vQQ5y_2LHjNq",
        "outputId": "de822374-43c9-488e-bdcf-c95961a5ba5d"
      },
      "source": [
        "accuracy_score(y_test, y_pred)"
      ],
      "execution_count": null,
      "outputs": [
        {
          "output_type": "execute_result",
          "data": {
            "text/plain": [
              "0.8153846153846154"
            ]
          },
          "metadata": {
            "tags": []
          },
          "execution_count": 38
        }
      ]
    },
    {
      "cell_type": "markdown",
      "metadata": {
        "id": "n2coxzRbHjNq"
      },
      "source": [
        "### Predicting Salary"
      ]
    },
    {
      "cell_type": "code",
      "metadata": {
        "id": "naM8VHPMHjNq",
        "outputId": "f3074530-123a-41e8-fef5-1845ba8c6303"
      },
      "source": [
        "## Data Preprocessing\n",
        "a.dropna(inplace=True)\n",
        "a.drop('status',axis=1)"
      ],
      "execution_count": null,
      "outputs": [
        {
          "output_type": "execute_result",
          "data": {
            "text/html": [
              "<div>\n",
              "<style scoped>\n",
              "    .dataframe tbody tr th:only-of-type {\n",
              "        vertical-align: middle;\n",
              "    }\n",
              "\n",
              "    .dataframe tbody tr th {\n",
              "        vertical-align: top;\n",
              "    }\n",
              "\n",
              "    .dataframe thead th {\n",
              "        text-align: right;\n",
              "    }\n",
              "</style>\n",
              "<table border=\"1\" class=\"dataframe\">\n",
              "  <thead>\n",
              "    <tr style=\"text-align: right;\">\n",
              "      <th></th>\n",
              "      <th>gender</th>\n",
              "      <th>ssc_p</th>\n",
              "      <th>hsc_p</th>\n",
              "      <th>hsc_s</th>\n",
              "      <th>degree_p</th>\n",
              "      <th>degree_t</th>\n",
              "      <th>workex</th>\n",
              "      <th>etest_p</th>\n",
              "      <th>specialisation</th>\n",
              "      <th>mba_p</th>\n",
              "      <th>salary</th>\n",
              "    </tr>\n",
              "  </thead>\n",
              "  <tbody>\n",
              "    <tr>\n",
              "      <th>0</th>\n",
              "      <td>0</td>\n",
              "      <td>67.00</td>\n",
              "      <td>91.00</td>\n",
              "      <td>0</td>\n",
              "      <td>58.00</td>\n",
              "      <td>1</td>\n",
              "      <td>0</td>\n",
              "      <td>55.00</td>\n",
              "      <td>0</td>\n",
              "      <td>58.80</td>\n",
              "      <td>270000.0</td>\n",
              "    </tr>\n",
              "    <tr>\n",
              "      <th>1</th>\n",
              "      <td>0</td>\n",
              "      <td>79.33</td>\n",
              "      <td>78.33</td>\n",
              "      <td>1</td>\n",
              "      <td>77.48</td>\n",
              "      <td>1</td>\n",
              "      <td>1</td>\n",
              "      <td>86.50</td>\n",
              "      <td>1</td>\n",
              "      <td>66.28</td>\n",
              "      <td>200000.0</td>\n",
              "    </tr>\n",
              "    <tr>\n",
              "      <th>2</th>\n",
              "      <td>0</td>\n",
              "      <td>65.00</td>\n",
              "      <td>68.00</td>\n",
              "      <td>2</td>\n",
              "      <td>64.00</td>\n",
              "      <td>0</td>\n",
              "      <td>0</td>\n",
              "      <td>75.00</td>\n",
              "      <td>1</td>\n",
              "      <td>57.80</td>\n",
              "      <td>250000.0</td>\n",
              "    </tr>\n",
              "    <tr>\n",
              "      <th>4</th>\n",
              "      <td>0</td>\n",
              "      <td>85.80</td>\n",
              "      <td>73.60</td>\n",
              "      <td>0</td>\n",
              "      <td>73.30</td>\n",
              "      <td>0</td>\n",
              "      <td>0</td>\n",
              "      <td>96.80</td>\n",
              "      <td>1</td>\n",
              "      <td>55.50</td>\n",
              "      <td>425000.0</td>\n",
              "    </tr>\n",
              "    <tr>\n",
              "      <th>7</th>\n",
              "      <td>0</td>\n",
              "      <td>82.00</td>\n",
              "      <td>64.00</td>\n",
              "      <td>1</td>\n",
              "      <td>66.00</td>\n",
              "      <td>1</td>\n",
              "      <td>1</td>\n",
              "      <td>67.00</td>\n",
              "      <td>1</td>\n",
              "      <td>62.14</td>\n",
              "      <td>252000.0</td>\n",
              "    </tr>\n",
              "    <tr>\n",
              "      <th>8</th>\n",
              "      <td>0</td>\n",
              "      <td>73.00</td>\n",
              "      <td>79.00</td>\n",
              "      <td>0</td>\n",
              "      <td>72.00</td>\n",
              "      <td>0</td>\n",
              "      <td>0</td>\n",
              "      <td>91.34</td>\n",
              "      <td>1</td>\n",
              "      <td>61.29</td>\n",
              "      <td>231000.0</td>\n",
              "    </tr>\n",
              "    <tr>\n",
              "      <th>10</th>\n",
              "      <td>0</td>\n",
              "      <td>58.00</td>\n",
              "      <td>61.00</td>\n",
              "      <td>0</td>\n",
              "      <td>60.00</td>\n",
              "      <td>0</td>\n",
              "      <td>1</td>\n",
              "      <td>62.00</td>\n",
              "      <td>0</td>\n",
              "      <td>60.85</td>\n",
              "      <td>260000.0</td>\n",
              "    </tr>\n",
              "    <tr>\n",
              "      <th>11</th>\n",
              "      <td>0</td>\n",
              "      <td>69.60</td>\n",
              "      <td>68.40</td>\n",
              "      <td>0</td>\n",
              "      <td>78.30</td>\n",
              "      <td>0</td>\n",
              "      <td>1</td>\n",
              "      <td>60.00</td>\n",
              "      <td>1</td>\n",
              "      <td>63.70</td>\n",
              "      <td>250000.0</td>\n",
              "    </tr>\n",
              "    <tr>\n",
              "      <th>13</th>\n",
              "      <td>1</td>\n",
              "      <td>77.00</td>\n",
              "      <td>87.00</td>\n",
              "      <td>0</td>\n",
              "      <td>59.00</td>\n",
              "      <td>0</td>\n",
              "      <td>0</td>\n",
              "      <td>68.00</td>\n",
              "      <td>1</td>\n",
              "      <td>68.63</td>\n",
              "      <td>218000.0</td>\n",
              "    </tr>\n",
              "    <tr>\n",
              "      <th>15</th>\n",
              "      <td>1</td>\n",
              "      <td>65.00</td>\n",
              "      <td>75.00</td>\n",
              "      <td>0</td>\n",
              "      <td>69.00</td>\n",
              "      <td>0</td>\n",
              "      <td>1</td>\n",
              "      <td>72.00</td>\n",
              "      <td>1</td>\n",
              "      <td>64.66</td>\n",
              "      <td>200000.0</td>\n",
              "    </tr>\n",
              "    <tr>\n",
              "      <th>16</th>\n",
              "      <td>0</td>\n",
              "      <td>63.00</td>\n",
              "      <td>66.20</td>\n",
              "      <td>0</td>\n",
              "      <td>65.60</td>\n",
              "      <td>0</td>\n",
              "      <td>1</td>\n",
              "      <td>60.00</td>\n",
              "      <td>1</td>\n",
              "      <td>62.54</td>\n",
              "      <td>300000.0</td>\n",
              "    </tr>\n",
              "    <tr>\n",
              "      <th>19</th>\n",
              "      <td>0</td>\n",
              "      <td>60.00</td>\n",
              "      <td>67.00</td>\n",
              "      <td>2</td>\n",
              "      <td>70.00</td>\n",
              "      <td>0</td>\n",
              "      <td>1</td>\n",
              "      <td>50.48</td>\n",
              "      <td>1</td>\n",
              "      <td>77.89</td>\n",
              "      <td>236000.0</td>\n",
              "    </tr>\n",
              "    <tr>\n",
              "      <th>20</th>\n",
              "      <td>0</td>\n",
              "      <td>62.00</td>\n",
              "      <td>65.00</td>\n",
              "      <td>0</td>\n",
              "      <td>66.00</td>\n",
              "      <td>0</td>\n",
              "      <td>0</td>\n",
              "      <td>50.00</td>\n",
              "      <td>0</td>\n",
              "      <td>56.70</td>\n",
              "      <td>265000.0</td>\n",
              "    </tr>\n",
              "    <tr>\n",
              "      <th>21</th>\n",
              "      <td>1</td>\n",
              "      <td>79.00</td>\n",
              "      <td>76.00</td>\n",
              "      <td>0</td>\n",
              "      <td>85.00</td>\n",
              "      <td>0</td>\n",
              "      <td>0</td>\n",
              "      <td>95.00</td>\n",
              "      <td>1</td>\n",
              "      <td>69.06</td>\n",
              "      <td>393000.0</td>\n",
              "    </tr>\n",
              "    <tr>\n",
              "      <th>22</th>\n",
              "      <td>1</td>\n",
              "      <td>69.80</td>\n",
              "      <td>60.80</td>\n",
              "      <td>1</td>\n",
              "      <td>72.23</td>\n",
              "      <td>1</td>\n",
              "      <td>0</td>\n",
              "      <td>55.53</td>\n",
              "      <td>0</td>\n",
              "      <td>68.81</td>\n",
              "      <td>360000.0</td>\n",
              "    </tr>\n",
              "    <tr>\n",
              "      <th>23</th>\n",
              "      <td>1</td>\n",
              "      <td>77.40</td>\n",
              "      <td>60.00</td>\n",
              "      <td>1</td>\n",
              "      <td>64.74</td>\n",
              "      <td>1</td>\n",
              "      <td>1</td>\n",
              "      <td>92.00</td>\n",
              "      <td>1</td>\n",
              "      <td>63.62</td>\n",
              "      <td>300000.0</td>\n",
              "    </tr>\n",
              "    <tr>\n",
              "      <th>24</th>\n",
              "      <td>0</td>\n",
              "      <td>76.50</td>\n",
              "      <td>97.70</td>\n",
              "      <td>1</td>\n",
              "      <td>78.86</td>\n",
              "      <td>1</td>\n",
              "      <td>0</td>\n",
              "      <td>97.40</td>\n",
              "      <td>1</td>\n",
              "      <td>74.01</td>\n",
              "      <td>360000.0</td>\n",
              "    </tr>\n",
              "    <tr>\n",
              "      <th>26</th>\n",
              "      <td>0</td>\n",
              "      <td>71.00</td>\n",
              "      <td>79.00</td>\n",
              "      <td>0</td>\n",
              "      <td>66.00</td>\n",
              "      <td>0</td>\n",
              "      <td>1</td>\n",
              "      <td>94.00</td>\n",
              "      <td>1</td>\n",
              "      <td>57.55</td>\n",
              "      <td>240000.0</td>\n",
              "    </tr>\n",
              "    <tr>\n",
              "      <th>27</th>\n",
              "      <td>0</td>\n",
              "      <td>63.00</td>\n",
              "      <td>67.00</td>\n",
              "      <td>0</td>\n",
              "      <td>66.00</td>\n",
              "      <td>0</td>\n",
              "      <td>0</td>\n",
              "      <td>68.00</td>\n",
              "      <td>0</td>\n",
              "      <td>57.69</td>\n",
              "      <td>265000.0</td>\n",
              "    </tr>\n",
              "    <tr>\n",
              "      <th>28</th>\n",
              "      <td>0</td>\n",
              "      <td>76.76</td>\n",
              "      <td>76.50</td>\n",
              "      <td>0</td>\n",
              "      <td>67.50</td>\n",
              "      <td>0</td>\n",
              "      <td>1</td>\n",
              "      <td>73.35</td>\n",
              "      <td>1</td>\n",
              "      <td>64.15</td>\n",
              "      <td>350000.0</td>\n",
              "    </tr>\n",
              "    <tr>\n",
              "      <th>30</th>\n",
              "      <td>1</td>\n",
              "      <td>64.00</td>\n",
              "      <td>73.50</td>\n",
              "      <td>0</td>\n",
              "      <td>73.00</td>\n",
              "      <td>0</td>\n",
              "      <td>0</td>\n",
              "      <td>52.00</td>\n",
              "      <td>0</td>\n",
              "      <td>56.70</td>\n",
              "      <td>250000.0</td>\n",
              "    </tr>\n",
              "    <tr>\n",
              "      <th>32</th>\n",
              "      <td>1</td>\n",
              "      <td>61.00</td>\n",
              "      <td>81.00</td>\n",
              "      <td>0</td>\n",
              "      <td>66.40</td>\n",
              "      <td>0</td>\n",
              "      <td>0</td>\n",
              "      <td>50.89</td>\n",
              "      <td>0</td>\n",
              "      <td>62.21</td>\n",
              "      <td>278000.0</td>\n",
              "    </tr>\n",
              "    <tr>\n",
              "      <th>33</th>\n",
              "      <td>1</td>\n",
              "      <td>87.00</td>\n",
              "      <td>65.00</td>\n",
              "      <td>1</td>\n",
              "      <td>81.00</td>\n",
              "      <td>0</td>\n",
              "      <td>1</td>\n",
              "      <td>88.00</td>\n",
              "      <td>1</td>\n",
              "      <td>72.78</td>\n",
              "      <td>260000.0</td>\n",
              "    </tr>\n",
              "    <tr>\n",
              "      <th>35</th>\n",
              "      <td>1</td>\n",
              "      <td>69.00</td>\n",
              "      <td>78.00</td>\n",
              "      <td>0</td>\n",
              "      <td>72.00</td>\n",
              "      <td>0</td>\n",
              "      <td>0</td>\n",
              "      <td>71.00</td>\n",
              "      <td>0</td>\n",
              "      <td>62.74</td>\n",
              "      <td>300000.0</td>\n",
              "    </tr>\n",
              "    <tr>\n",
              "      <th>37</th>\n",
              "      <td>1</td>\n",
              "      <td>79.00</td>\n",
              "      <td>76.00</td>\n",
              "      <td>1</td>\n",
              "      <td>65.60</td>\n",
              "      <td>1</td>\n",
              "      <td>0</td>\n",
              "      <td>58.00</td>\n",
              "      <td>0</td>\n",
              "      <td>55.47</td>\n",
              "      <td>320000.0</td>\n",
              "    </tr>\n",
              "    <tr>\n",
              "      <th>38</th>\n",
              "      <td>1</td>\n",
              "      <td>73.00</td>\n",
              "      <td>58.00</td>\n",
              "      <td>1</td>\n",
              "      <td>66.00</td>\n",
              "      <td>0</td>\n",
              "      <td>0</td>\n",
              "      <td>53.70</td>\n",
              "      <td>0</td>\n",
              "      <td>56.86</td>\n",
              "      <td>240000.0</td>\n",
              "    </tr>\n",
              "    <tr>\n",
              "      <th>39</th>\n",
              "      <td>0</td>\n",
              "      <td>81.00</td>\n",
              "      <td>68.00</td>\n",
              "      <td>1</td>\n",
              "      <td>64.00</td>\n",
              "      <td>1</td>\n",
              "      <td>0</td>\n",
              "      <td>93.00</td>\n",
              "      <td>1</td>\n",
              "      <td>62.56</td>\n",
              "      <td>411000.0</td>\n",
              "    </tr>\n",
              "    <tr>\n",
              "      <th>40</th>\n",
              "      <td>1</td>\n",
              "      <td>78.00</td>\n",
              "      <td>77.00</td>\n",
              "      <td>0</td>\n",
              "      <td>80.00</td>\n",
              "      <td>0</td>\n",
              "      <td>0</td>\n",
              "      <td>60.00</td>\n",
              "      <td>1</td>\n",
              "      <td>66.72</td>\n",
              "      <td>287000.0</td>\n",
              "    </tr>\n",
              "    <tr>\n",
              "      <th>43</th>\n",
              "      <td>0</td>\n",
              "      <td>87.00</td>\n",
              "      <td>87.00</td>\n",
              "      <td>0</td>\n",
              "      <td>68.00</td>\n",
              "      <td>0</td>\n",
              "      <td>0</td>\n",
              "      <td>95.00</td>\n",
              "      <td>0</td>\n",
              "      <td>62.90</td>\n",
              "      <td>300000.0</td>\n",
              "    </tr>\n",
              "    <tr>\n",
              "      <th>44</th>\n",
              "      <td>1</td>\n",
              "      <td>77.00</td>\n",
              "      <td>73.00</td>\n",
              "      <td>0</td>\n",
              "      <td>81.00</td>\n",
              "      <td>0</td>\n",
              "      <td>1</td>\n",
              "      <td>89.00</td>\n",
              "      <td>1</td>\n",
              "      <td>69.70</td>\n",
              "      <td>200000.0</td>\n",
              "    </tr>\n",
              "    <tr>\n",
              "      <th>...</th>\n",
              "      <td>...</td>\n",
              "      <td>...</td>\n",
              "      <td>...</td>\n",
              "      <td>...</td>\n",
              "      <td>...</td>\n",
              "      <td>...</td>\n",
              "      <td>...</td>\n",
              "      <td>...</td>\n",
              "      <td>...</td>\n",
              "      <td>...</td>\n",
              "      <td>...</td>\n",
              "    </tr>\n",
              "    <tr>\n",
              "      <th>164</th>\n",
              "      <td>1</td>\n",
              "      <td>67.16</td>\n",
              "      <td>72.50</td>\n",
              "      <td>0</td>\n",
              "      <td>63.35</td>\n",
              "      <td>0</td>\n",
              "      <td>0</td>\n",
              "      <td>53.04</td>\n",
              "      <td>1</td>\n",
              "      <td>65.52</td>\n",
              "      <td>250000.0</td>\n",
              "    </tr>\n",
              "    <tr>\n",
              "      <th>166</th>\n",
              "      <td>0</td>\n",
              "      <td>62.00</td>\n",
              "      <td>62.00</td>\n",
              "      <td>0</td>\n",
              "      <td>60.00</td>\n",
              "      <td>0</td>\n",
              "      <td>1</td>\n",
              "      <td>63.00</td>\n",
              "      <td>0</td>\n",
              "      <td>52.38</td>\n",
              "      <td>240000.0</td>\n",
              "    </tr>\n",
              "    <tr>\n",
              "      <th>171</th>\n",
              "      <td>0</td>\n",
              "      <td>80.00</td>\n",
              "      <td>80.00</td>\n",
              "      <td>0</td>\n",
              "      <td>72.00</td>\n",
              "      <td>0</td>\n",
              "      <td>1</td>\n",
              "      <td>63.79</td>\n",
              "      <td>1</td>\n",
              "      <td>66.04</td>\n",
              "      <td>290000.0</td>\n",
              "    </tr>\n",
              "    <tr>\n",
              "      <th>172</th>\n",
              "      <td>0</td>\n",
              "      <td>73.00</td>\n",
              "      <td>58.00</td>\n",
              "      <td>0</td>\n",
              "      <td>56.00</td>\n",
              "      <td>0</td>\n",
              "      <td>0</td>\n",
              "      <td>84.00</td>\n",
              "      <td>0</td>\n",
              "      <td>52.64</td>\n",
              "      <td>300000.0</td>\n",
              "    </tr>\n",
              "    <tr>\n",
              "      <th>174</th>\n",
              "      <td>0</td>\n",
              "      <td>73.24</td>\n",
              "      <td>50.83</td>\n",
              "      <td>1</td>\n",
              "      <td>64.27</td>\n",
              "      <td>1</td>\n",
              "      <td>1</td>\n",
              "      <td>64.00</td>\n",
              "      <td>1</td>\n",
              "      <td>66.23</td>\n",
              "      <td>500000.0</td>\n",
              "    </tr>\n",
              "    <tr>\n",
              "      <th>176</th>\n",
              "      <td>1</td>\n",
              "      <td>59.00</td>\n",
              "      <td>60.00</td>\n",
              "      <td>0</td>\n",
              "      <td>56.00</td>\n",
              "      <td>0</td>\n",
              "      <td>0</td>\n",
              "      <td>55.00</td>\n",
              "      <td>0</td>\n",
              "      <td>57.90</td>\n",
              "      <td>220000.0</td>\n",
              "    </tr>\n",
              "    <tr>\n",
              "      <th>177</th>\n",
              "      <td>1</td>\n",
              "      <td>73.00</td>\n",
              "      <td>97.00</td>\n",
              "      <td>0</td>\n",
              "      <td>79.00</td>\n",
              "      <td>0</td>\n",
              "      <td>1</td>\n",
              "      <td>89.00</td>\n",
              "      <td>1</td>\n",
              "      <td>70.81</td>\n",
              "      <td>650000.0</td>\n",
              "    </tr>\n",
              "    <tr>\n",
              "      <th>178</th>\n",
              "      <td>0</td>\n",
              "      <td>68.00</td>\n",
              "      <td>56.00</td>\n",
              "      <td>1</td>\n",
              "      <td>68.00</td>\n",
              "      <td>1</td>\n",
              "      <td>0</td>\n",
              "      <td>73.00</td>\n",
              "      <td>0</td>\n",
              "      <td>68.07</td>\n",
              "      <td>350000.0</td>\n",
              "    </tr>\n",
              "    <tr>\n",
              "      <th>180</th>\n",
              "      <td>0</td>\n",
              "      <td>65.00</td>\n",
              "      <td>71.50</td>\n",
              "      <td>0</td>\n",
              "      <td>62.80</td>\n",
              "      <td>0</td>\n",
              "      <td>1</td>\n",
              "      <td>57.00</td>\n",
              "      <td>1</td>\n",
              "      <td>56.60</td>\n",
              "      <td>265000.0</td>\n",
              "    </tr>\n",
              "    <tr>\n",
              "      <th>183</th>\n",
              "      <td>0</td>\n",
              "      <td>65.00</td>\n",
              "      <td>77.00</td>\n",
              "      <td>0</td>\n",
              "      <td>69.00</td>\n",
              "      <td>0</td>\n",
              "      <td>0</td>\n",
              "      <td>60.00</td>\n",
              "      <td>0</td>\n",
              "      <td>61.82</td>\n",
              "      <td>276000.0</td>\n",
              "    </tr>\n",
              "    <tr>\n",
              "      <th>185</th>\n",
              "      <td>1</td>\n",
              "      <td>88.00</td>\n",
              "      <td>72.00</td>\n",
              "      <td>1</td>\n",
              "      <td>78.00</td>\n",
              "      <td>2</td>\n",
              "      <td>0</td>\n",
              "      <td>82.00</td>\n",
              "      <td>0</td>\n",
              "      <td>71.43</td>\n",
              "      <td>252000.0</td>\n",
              "    </tr>\n",
              "    <tr>\n",
              "      <th>187</th>\n",
              "      <td>0</td>\n",
              "      <td>78.50</td>\n",
              "      <td>65.50</td>\n",
              "      <td>1</td>\n",
              "      <td>67.00</td>\n",
              "      <td>1</td>\n",
              "      <td>1</td>\n",
              "      <td>95.00</td>\n",
              "      <td>1</td>\n",
              "      <td>64.86</td>\n",
              "      <td>280000.0</td>\n",
              "    </tr>\n",
              "    <tr>\n",
              "      <th>191</th>\n",
              "      <td>0</td>\n",
              "      <td>67.00</td>\n",
              "      <td>61.00</td>\n",
              "      <td>1</td>\n",
              "      <td>72.00</td>\n",
              "      <td>0</td>\n",
              "      <td>0</td>\n",
              "      <td>72.00</td>\n",
              "      <td>1</td>\n",
              "      <td>61.01</td>\n",
              "      <td>264000.0</td>\n",
              "    </tr>\n",
              "    <tr>\n",
              "      <th>192</th>\n",
              "      <td>0</td>\n",
              "      <td>65.20</td>\n",
              "      <td>61.40</td>\n",
              "      <td>0</td>\n",
              "      <td>64.80</td>\n",
              "      <td>0</td>\n",
              "      <td>1</td>\n",
              "      <td>93.40</td>\n",
              "      <td>1</td>\n",
              "      <td>57.34</td>\n",
              "      <td>270000.0</td>\n",
              "    </tr>\n",
              "    <tr>\n",
              "      <th>193</th>\n",
              "      <td>1</td>\n",
              "      <td>60.00</td>\n",
              "      <td>63.00</td>\n",
              "      <td>2</td>\n",
              "      <td>56.00</td>\n",
              "      <td>2</td>\n",
              "      <td>1</td>\n",
              "      <td>80.00</td>\n",
              "      <td>0</td>\n",
              "      <td>56.63</td>\n",
              "      <td>300000.0</td>\n",
              "    </tr>\n",
              "    <tr>\n",
              "      <th>195</th>\n",
              "      <td>0</td>\n",
              "      <td>66.00</td>\n",
              "      <td>76.00</td>\n",
              "      <td>0</td>\n",
              "      <td>72.00</td>\n",
              "      <td>0</td>\n",
              "      <td>1</td>\n",
              "      <td>84.00</td>\n",
              "      <td>0</td>\n",
              "      <td>58.95</td>\n",
              "      <td>275000.0</td>\n",
              "    </tr>\n",
              "    <tr>\n",
              "      <th>196</th>\n",
              "      <td>0</td>\n",
              "      <td>72.00</td>\n",
              "      <td>63.00</td>\n",
              "      <td>1</td>\n",
              "      <td>77.50</td>\n",
              "      <td>1</td>\n",
              "      <td>1</td>\n",
              "      <td>78.00</td>\n",
              "      <td>1</td>\n",
              "      <td>54.48</td>\n",
              "      <td>250000.0</td>\n",
              "    </tr>\n",
              "    <tr>\n",
              "      <th>197</th>\n",
              "      <td>1</td>\n",
              "      <td>83.96</td>\n",
              "      <td>53.00</td>\n",
              "      <td>1</td>\n",
              "      <td>91.00</td>\n",
              "      <td>1</td>\n",
              "      <td>0</td>\n",
              "      <td>59.32</td>\n",
              "      <td>0</td>\n",
              "      <td>69.71</td>\n",
              "      <td>260000.0</td>\n",
              "    </tr>\n",
              "    <tr>\n",
              "      <th>199</th>\n",
              "      <td>0</td>\n",
              "      <td>69.00</td>\n",
              "      <td>65.00</td>\n",
              "      <td>0</td>\n",
              "      <td>57.00</td>\n",
              "      <td>0</td>\n",
              "      <td>0</td>\n",
              "      <td>73.00</td>\n",
              "      <td>0</td>\n",
              "      <td>55.80</td>\n",
              "      <td>265000.0</td>\n",
              "    </tr>\n",
              "    <tr>\n",
              "      <th>200</th>\n",
              "      <td>0</td>\n",
              "      <td>69.00</td>\n",
              "      <td>60.00</td>\n",
              "      <td>0</td>\n",
              "      <td>65.00</td>\n",
              "      <td>0</td>\n",
              "      <td>0</td>\n",
              "      <td>87.55</td>\n",
              "      <td>1</td>\n",
              "      <td>52.81</td>\n",
              "      <td>300000.0</td>\n",
              "    </tr>\n",
              "    <tr>\n",
              "      <th>202</th>\n",
              "      <td>0</td>\n",
              "      <td>70.00</td>\n",
              "      <td>63.00</td>\n",
              "      <td>1</td>\n",
              "      <td>66.00</td>\n",
              "      <td>1</td>\n",
              "      <td>0</td>\n",
              "      <td>61.28</td>\n",
              "      <td>0</td>\n",
              "      <td>60.11</td>\n",
              "      <td>240000.0</td>\n",
              "    </tr>\n",
              "    <tr>\n",
              "      <th>203</th>\n",
              "      <td>0</td>\n",
              "      <td>55.68</td>\n",
              "      <td>61.33</td>\n",
              "      <td>0</td>\n",
              "      <td>56.87</td>\n",
              "      <td>0</td>\n",
              "      <td>0</td>\n",
              "      <td>66.00</td>\n",
              "      <td>0</td>\n",
              "      <td>58.30</td>\n",
              "      <td>260000.0</td>\n",
              "    </tr>\n",
              "    <tr>\n",
              "      <th>204</th>\n",
              "      <td>1</td>\n",
              "      <td>74.00</td>\n",
              "      <td>73.00</td>\n",
              "      <td>0</td>\n",
              "      <td>73.00</td>\n",
              "      <td>0</td>\n",
              "      <td>1</td>\n",
              "      <td>80.00</td>\n",
              "      <td>1</td>\n",
              "      <td>67.69</td>\n",
              "      <td>210000.0</td>\n",
              "    </tr>\n",
              "    <tr>\n",
              "      <th>205</th>\n",
              "      <td>0</td>\n",
              "      <td>61.00</td>\n",
              "      <td>62.00</td>\n",
              "      <td>0</td>\n",
              "      <td>65.00</td>\n",
              "      <td>0</td>\n",
              "      <td>0</td>\n",
              "      <td>62.00</td>\n",
              "      <td>1</td>\n",
              "      <td>56.81</td>\n",
              "      <td>250000.0</td>\n",
              "    </tr>\n",
              "    <tr>\n",
              "      <th>207</th>\n",
              "      <td>0</td>\n",
              "      <td>83.33</td>\n",
              "      <td>78.00</td>\n",
              "      <td>0</td>\n",
              "      <td>61.00</td>\n",
              "      <td>0</td>\n",
              "      <td>1</td>\n",
              "      <td>88.56</td>\n",
              "      <td>1</td>\n",
              "      <td>71.55</td>\n",
              "      <td>300000.0</td>\n",
              "    </tr>\n",
              "    <tr>\n",
              "      <th>209</th>\n",
              "      <td>0</td>\n",
              "      <td>62.00</td>\n",
              "      <td>72.00</td>\n",
              "      <td>0</td>\n",
              "      <td>65.00</td>\n",
              "      <td>0</td>\n",
              "      <td>0</td>\n",
              "      <td>67.00</td>\n",
              "      <td>1</td>\n",
              "      <td>56.49</td>\n",
              "      <td>216000.0</td>\n",
              "    </tr>\n",
              "    <tr>\n",
              "      <th>210</th>\n",
              "      <td>0</td>\n",
              "      <td>80.60</td>\n",
              "      <td>82.00</td>\n",
              "      <td>0</td>\n",
              "      <td>77.60</td>\n",
              "      <td>0</td>\n",
              "      <td>0</td>\n",
              "      <td>91.00</td>\n",
              "      <td>1</td>\n",
              "      <td>74.49</td>\n",
              "      <td>400000.0</td>\n",
              "    </tr>\n",
              "    <tr>\n",
              "      <th>211</th>\n",
              "      <td>0</td>\n",
              "      <td>58.00</td>\n",
              "      <td>60.00</td>\n",
              "      <td>1</td>\n",
              "      <td>72.00</td>\n",
              "      <td>1</td>\n",
              "      <td>0</td>\n",
              "      <td>74.00</td>\n",
              "      <td>1</td>\n",
              "      <td>53.62</td>\n",
              "      <td>275000.0</td>\n",
              "    </tr>\n",
              "    <tr>\n",
              "      <th>212</th>\n",
              "      <td>0</td>\n",
              "      <td>67.00</td>\n",
              "      <td>67.00</td>\n",
              "      <td>0</td>\n",
              "      <td>73.00</td>\n",
              "      <td>0</td>\n",
              "      <td>1</td>\n",
              "      <td>59.00</td>\n",
              "      <td>1</td>\n",
              "      <td>69.72</td>\n",
              "      <td>295000.0</td>\n",
              "    </tr>\n",
              "    <tr>\n",
              "      <th>213</th>\n",
              "      <td>1</td>\n",
              "      <td>74.00</td>\n",
              "      <td>66.00</td>\n",
              "      <td>0</td>\n",
              "      <td>58.00</td>\n",
              "      <td>0</td>\n",
              "      <td>0</td>\n",
              "      <td>70.00</td>\n",
              "      <td>0</td>\n",
              "      <td>60.23</td>\n",
              "      <td>204000.0</td>\n",
              "    </tr>\n",
              "  </tbody>\n",
              "</table>\n",
              "<p>148 rows × 11 columns</p>\n",
              "</div>"
            ],
            "text/plain": [
              "     gender  ssc_p  hsc_p  hsc_s  degree_p  degree_t  workex  etest_p  \\\n",
              "0         0  67.00  91.00      0     58.00         1       0    55.00   \n",
              "1         0  79.33  78.33      1     77.48         1       1    86.50   \n",
              "2         0  65.00  68.00      2     64.00         0       0    75.00   \n",
              "4         0  85.80  73.60      0     73.30         0       0    96.80   \n",
              "7         0  82.00  64.00      1     66.00         1       1    67.00   \n",
              "8         0  73.00  79.00      0     72.00         0       0    91.34   \n",
              "10        0  58.00  61.00      0     60.00         0       1    62.00   \n",
              "11        0  69.60  68.40      0     78.30         0       1    60.00   \n",
              "13        1  77.00  87.00      0     59.00         0       0    68.00   \n",
              "15        1  65.00  75.00      0     69.00         0       1    72.00   \n",
              "16        0  63.00  66.20      0     65.60         0       1    60.00   \n",
              "19        0  60.00  67.00      2     70.00         0       1    50.48   \n",
              "20        0  62.00  65.00      0     66.00         0       0    50.00   \n",
              "21        1  79.00  76.00      0     85.00         0       0    95.00   \n",
              "22        1  69.80  60.80      1     72.23         1       0    55.53   \n",
              "23        1  77.40  60.00      1     64.74         1       1    92.00   \n",
              "24        0  76.50  97.70      1     78.86         1       0    97.40   \n",
              "26        0  71.00  79.00      0     66.00         0       1    94.00   \n",
              "27        0  63.00  67.00      0     66.00         0       0    68.00   \n",
              "28        0  76.76  76.50      0     67.50         0       1    73.35   \n",
              "30        1  64.00  73.50      0     73.00         0       0    52.00   \n",
              "32        1  61.00  81.00      0     66.40         0       0    50.89   \n",
              "33        1  87.00  65.00      1     81.00         0       1    88.00   \n",
              "35        1  69.00  78.00      0     72.00         0       0    71.00   \n",
              "37        1  79.00  76.00      1     65.60         1       0    58.00   \n",
              "38        1  73.00  58.00      1     66.00         0       0    53.70   \n",
              "39        0  81.00  68.00      1     64.00         1       0    93.00   \n",
              "40        1  78.00  77.00      0     80.00         0       0    60.00   \n",
              "43        0  87.00  87.00      0     68.00         0       0    95.00   \n",
              "44        1  77.00  73.00      0     81.00         0       1    89.00   \n",
              "..      ...    ...    ...    ...       ...       ...     ...      ...   \n",
              "164       1  67.16  72.50      0     63.35         0       0    53.04   \n",
              "166       0  62.00  62.00      0     60.00         0       1    63.00   \n",
              "171       0  80.00  80.00      0     72.00         0       1    63.79   \n",
              "172       0  73.00  58.00      0     56.00         0       0    84.00   \n",
              "174       0  73.24  50.83      1     64.27         1       1    64.00   \n",
              "176       1  59.00  60.00      0     56.00         0       0    55.00   \n",
              "177       1  73.00  97.00      0     79.00         0       1    89.00   \n",
              "178       0  68.00  56.00      1     68.00         1       0    73.00   \n",
              "180       0  65.00  71.50      0     62.80         0       1    57.00   \n",
              "183       0  65.00  77.00      0     69.00         0       0    60.00   \n",
              "185       1  88.00  72.00      1     78.00         2       0    82.00   \n",
              "187       0  78.50  65.50      1     67.00         1       1    95.00   \n",
              "191       0  67.00  61.00      1     72.00         0       0    72.00   \n",
              "192       0  65.20  61.40      0     64.80         0       1    93.40   \n",
              "193       1  60.00  63.00      2     56.00         2       1    80.00   \n",
              "195       0  66.00  76.00      0     72.00         0       1    84.00   \n",
              "196       0  72.00  63.00      1     77.50         1       1    78.00   \n",
              "197       1  83.96  53.00      1     91.00         1       0    59.32   \n",
              "199       0  69.00  65.00      0     57.00         0       0    73.00   \n",
              "200       0  69.00  60.00      0     65.00         0       0    87.55   \n",
              "202       0  70.00  63.00      1     66.00         1       0    61.28   \n",
              "203       0  55.68  61.33      0     56.87         0       0    66.00   \n",
              "204       1  74.00  73.00      0     73.00         0       1    80.00   \n",
              "205       0  61.00  62.00      0     65.00         0       0    62.00   \n",
              "207       0  83.33  78.00      0     61.00         0       1    88.56   \n",
              "209       0  62.00  72.00      0     65.00         0       0    67.00   \n",
              "210       0  80.60  82.00      0     77.60         0       0    91.00   \n",
              "211       0  58.00  60.00      1     72.00         1       0    74.00   \n",
              "212       0  67.00  67.00      0     73.00         0       1    59.00   \n",
              "213       1  74.00  66.00      0     58.00         0       0    70.00   \n",
              "\n",
              "     specialisation  mba_p    salary  \n",
              "0                 0  58.80  270000.0  \n",
              "1                 1  66.28  200000.0  \n",
              "2                 1  57.80  250000.0  \n",
              "4                 1  55.50  425000.0  \n",
              "7                 1  62.14  252000.0  \n",
              "8                 1  61.29  231000.0  \n",
              "10                0  60.85  260000.0  \n",
              "11                1  63.70  250000.0  \n",
              "13                1  68.63  218000.0  \n",
              "15                1  64.66  200000.0  \n",
              "16                1  62.54  300000.0  \n",
              "19                1  77.89  236000.0  \n",
              "20                0  56.70  265000.0  \n",
              "21                1  69.06  393000.0  \n",
              "22                0  68.81  360000.0  \n",
              "23                1  63.62  300000.0  \n",
              "24                1  74.01  360000.0  \n",
              "26                1  57.55  240000.0  \n",
              "27                0  57.69  265000.0  \n",
              "28                1  64.15  350000.0  \n",
              "30                0  56.70  250000.0  \n",
              "32                0  62.21  278000.0  \n",
              "33                1  72.78  260000.0  \n",
              "35                0  62.74  300000.0  \n",
              "37                0  55.47  320000.0  \n",
              "38                0  56.86  240000.0  \n",
              "39                1  62.56  411000.0  \n",
              "40                1  66.72  287000.0  \n",
              "43                0  62.90  300000.0  \n",
              "44                1  69.70  200000.0  \n",
              "..              ...    ...       ...  \n",
              "164               1  65.52  250000.0  \n",
              "166               0  52.38  240000.0  \n",
              "171               1  66.04  290000.0  \n",
              "172               0  52.64  300000.0  \n",
              "174               1  66.23  500000.0  \n",
              "176               0  57.90  220000.0  \n",
              "177               1  70.81  650000.0  \n",
              "178               0  68.07  350000.0  \n",
              "180               1  56.60  265000.0  \n",
              "183               0  61.82  276000.0  \n",
              "185               0  71.43  252000.0  \n",
              "187               1  64.86  280000.0  \n",
              "191               1  61.01  264000.0  \n",
              "192               1  57.34  270000.0  \n",
              "193               0  56.63  300000.0  \n",
              "195               0  58.95  275000.0  \n",
              "196               1  54.48  250000.0  \n",
              "197               0  69.71  260000.0  \n",
              "199               0  55.80  265000.0  \n",
              "200               1  52.81  300000.0  \n",
              "202               0  60.11  240000.0  \n",
              "203               0  58.30  260000.0  \n",
              "204               1  67.69  210000.0  \n",
              "205               1  56.81  250000.0  \n",
              "207               1  71.55  300000.0  \n",
              "209               1  56.49  216000.0  \n",
              "210               1  74.49  400000.0  \n",
              "211               1  53.62  275000.0  \n",
              "212               1  69.72  295000.0  \n",
              "213               0  60.23  204000.0  \n",
              "\n",
              "[148 rows x 11 columns]"
            ]
          },
          "metadata": {
            "tags": []
          },
          "execution_count": 39
        }
      ]
    },
    {
      "cell_type": "code",
      "metadata": {
        "id": "zbevYGxzHjNr"
      },
      "source": [
        "i= a.drop('salary',axis=1)\n",
        "j = a['salary']"
      ],
      "execution_count": null,
      "outputs": []
    },
    {
      "cell_type": "code",
      "metadata": {
        "id": "2wC0S5-bHjNr"
      },
      "source": [
        "i_scaled = scaler.fit_transform(i)"
      ],
      "execution_count": null,
      "outputs": []
    },
    {
      "cell_type": "code",
      "metadata": {
        "id": "l62h91ppHjNr"
      },
      "source": [
        "from sklearn.tree import DecisionTreeRegressor\n",
        "from sklearn.ensemble import RandomForestRegressor\n",
        "from sklearn.metrics import mean_squared_error as mse"
      ],
      "execution_count": null,
      "outputs": []
    },
    {
      "cell_type": "code",
      "metadata": {
        "id": "LhSL7QLCHjNr"
      },
      "source": [
        "X_train, X_test, y_train, y_test = train_test_split(i_scaled, j, test_size=0.3, random_state=0)"
      ],
      "execution_count": null,
      "outputs": []
    },
    {
      "cell_type": "code",
      "metadata": {
        "id": "9_UjY1rYHjNs"
      },
      "source": [
        "model = DecisionTreeRegressor(criterion='mse')\n",
        "model.fit(X_train, y_train)\n",
        "y_pred = model.predict(X_test)"
      ],
      "execution_count": null,
      "outputs": []
    },
    {
      "cell_type": "code",
      "metadata": {
        "id": "dMuqRiEWHjNs",
        "outputId": "2809af9c-7136-4ac0-bc80-8afe6367b81c"
      },
      "source": [
        "score = mse(y_test,y_pred)\n",
        "score"
      ],
      "execution_count": null,
      "outputs": [
        {
          "output_type": "execute_result",
          "data": {
            "text/plain": [
              "19795977777.77778"
            ]
          },
          "metadata": {
            "tags": []
          },
          "execution_count": 45
        }
      ]
    },
    {
      "cell_type": "code",
      "metadata": {
        "id": "vUkjKWllHjNs"
      },
      "source": [
        "#Using Random Forest Algorithm\n",
        "random_forest = RandomForestRegressor(n_estimators=100)\n",
        "random_forest.fit(X_train, y_train)\n",
        "y_pred = random_forest.predict(X_test)"
      ],
      "execution_count": null,
      "outputs": []
    },
    {
      "cell_type": "code",
      "metadata": {
        "id": "cyL4UHZKHjNu",
        "outputId": "e1a50e74-5407-4fb7-e120-eefd55200bdd"
      },
      "source": [
        "score1=mse(y_test,y_pred)\n",
        "score1"
      ],
      "execution_count": null,
      "outputs": [
        {
          "output_type": "execute_result",
          "data": {
            "text/plain": [
              "13531509171.11111"
            ]
          },
          "metadata": {
            "tags": []
          },
          "execution_count": 47
        }
      ]
    },
    {
      "cell_type": "code",
      "metadata": {
        "id": "yn8yXsxGHjNu"
      },
      "source": [
        "\n"
      ],
      "execution_count": null,
      "outputs": []
    },
    {
      "cell_type": "code",
      "metadata": {
        "id": "FDzL780uHjNu"
      },
      "source": [
        ""
      ],
      "execution_count": null,
      "outputs": []
    },
    {
      "cell_type": "code",
      "metadata": {
        "id": "9Gszm_k8HjNu"
      },
      "source": [
        ""
      ],
      "execution_count": null,
      "outputs": []
    },
    {
      "cell_type": "code",
      "metadata": {
        "id": "0H877YJoHjNv"
      },
      "source": [
        ""
      ],
      "execution_count": null,
      "outputs": []
    },
    {
      "cell_type": "code",
      "metadata": {
        "id": "WiRsjT-NHjNv"
      },
      "source": [
        ""
      ],
      "execution_count": null,
      "outputs": []
    },
    {
      "cell_type": "code",
      "metadata": {
        "id": "Y3le2O-4HjNv"
      },
      "source": [
        ""
      ],
      "execution_count": null,
      "outputs": []
    },
    {
      "cell_type": "code",
      "metadata": {
        "id": "pThsHVWQHjNv"
      },
      "source": [
        ""
      ],
      "execution_count": null,
      "outputs": []
    },
    {
      "cell_type": "code",
      "metadata": {
        "id": "7CB7yOi9HjNv"
      },
      "source": [
        ""
      ],
      "execution_count": null,
      "outputs": []
    },
    {
      "cell_type": "code",
      "metadata": {
        "id": "KnDZZJGIHjNv"
      },
      "source": [
        ""
      ],
      "execution_count": null,
      "outputs": []
    },
    {
      "cell_type": "code",
      "metadata": {
        "id": "qQWFBUV0HjN0"
      },
      "source": [
        ""
      ],
      "execution_count": null,
      "outputs": []
    }
  ]
}